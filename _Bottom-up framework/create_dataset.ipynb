{
  "cells": [
    {
      "cell_type": "code",
      "source": [
        "!pip install mediapipe==0.8.9.1"
      ],
      "metadata": {
        "id": "CsNlWlm65rIz",
        "colab": {
          "base_uri": "https://localhost:8080/"
        },
        "outputId": "c4840fe4-8eb8-4210-c6a9-b36fee3b61af"
      },
      "execution_count": null,
      "outputs": [
        {
          "output_type": "stream",
          "name": "stdout",
          "text": [
            "Looking in indexes: https://pypi.org/simple, https://us-python.pkg.dev/colab-wheels/public/simple/\n",
            "Collecting mediapipe==0.8.9.1\n",
            "  Downloading mediapipe-0.8.9.1-cp310-cp310-manylinux_2_17_x86_64.manylinux2014_x86_64.whl (32.8 MB)\n",
            "\u001b[2K     \u001b[90m━━━━━━━━━━━━━━━━━━━━━━━━━━━━━━━━━━━━━━━━\u001b[0m \u001b[32m32.8/32.8 MB\u001b[0m \u001b[31m13.9 MB/s\u001b[0m eta \u001b[36m0:00:00\u001b[0m\n",
            "\u001b[?25hRequirement already satisfied: absl-py in /usr/local/lib/python3.10/dist-packages (from mediapipe==0.8.9.1) (1.4.0)\n",
            "Requirement already satisfied: attrs>=19.1.0 in /usr/local/lib/python3.10/dist-packages (from mediapipe==0.8.9.1) (23.1.0)\n",
            "Requirement already satisfied: matplotlib in /usr/local/lib/python3.10/dist-packages (from mediapipe==0.8.9.1) (3.7.1)\n",
            "Requirement already satisfied: numpy in /usr/local/lib/python3.10/dist-packages (from mediapipe==0.8.9.1) (1.22.4)\n",
            "Requirement already satisfied: opencv-contrib-python in /usr/local/lib/python3.10/dist-packages (from mediapipe==0.8.9.1) (4.7.0.72)\n",
            "Requirement already satisfied: protobuf>=3.11.4 in /usr/local/lib/python3.10/dist-packages (from mediapipe==0.8.9.1) (3.20.3)\n",
            "Requirement already satisfied: contourpy>=1.0.1 in /usr/local/lib/python3.10/dist-packages (from matplotlib->mediapipe==0.8.9.1) (1.0.7)\n",
            "Requirement already satisfied: cycler>=0.10 in /usr/local/lib/python3.10/dist-packages (from matplotlib->mediapipe==0.8.9.1) (0.11.0)\n",
            "Requirement already satisfied: fonttools>=4.22.0 in /usr/local/lib/python3.10/dist-packages (from matplotlib->mediapipe==0.8.9.1) (4.39.3)\n",
            "Requirement already satisfied: kiwisolver>=1.0.1 in /usr/local/lib/python3.10/dist-packages (from matplotlib->mediapipe==0.8.9.1) (1.4.4)\n",
            "Requirement already satisfied: packaging>=20.0 in /usr/local/lib/python3.10/dist-packages (from matplotlib->mediapipe==0.8.9.1) (23.1)\n",
            "Requirement already satisfied: pillow>=6.2.0 in /usr/local/lib/python3.10/dist-packages (from matplotlib->mediapipe==0.8.9.1) (8.4.0)\n",
            "Requirement already satisfied: pyparsing>=2.3.1 in /usr/local/lib/python3.10/dist-packages (from matplotlib->mediapipe==0.8.9.1) (3.0.9)\n",
            "Requirement already satisfied: python-dateutil>=2.7 in /usr/local/lib/python3.10/dist-packages (from matplotlib->mediapipe==0.8.9.1) (2.8.2)\n",
            "Requirement already satisfied: six>=1.5 in /usr/local/lib/python3.10/dist-packages (from python-dateutil>=2.7->matplotlib->mediapipe==0.8.9.1) (1.16.0)\n",
            "Installing collected packages: mediapipe\n",
            "Successfully installed mediapipe-0.8.9.1\n"
          ]
        }
      ]
    },
    {
      "cell_type": "code",
      "source": [
        "from google.colab import drive\n",
        "drive.mount('/content/drive')"
      ],
      "metadata": {
        "colab": {
          "base_uri": "https://localhost:8080/"
        },
        "id": "DCEzZhfy66c5",
        "outputId": "18da3d2e-7e07-4b69-c3ac-ccdc5929f87a"
      },
      "execution_count": null,
      "outputs": [
        {
          "output_type": "stream",
          "name": "stdout",
          "text": [
            "Mounted at /content/drive\n"
          ]
        }
      ]
    },
    {
      "cell_type": "code",
      "execution_count": null,
      "metadata": {
        "id": "xJDaQNgmyG7Q"
      },
      "outputs": [],
      "source": [
        "import cv2\n",
        "import os\n",
        "import re\n",
        "import mediapipe as mp\n",
        "import pandas as pd"
      ]
    },
    {
      "cell_type": "code",
      "source": [
        "print(mp.__version__)"
      ],
      "metadata": {
        "colab": {
          "base_uri": "https://localhost:8080/",
          "height": 165
        },
        "id": "K8W2rger1IXV",
        "outputId": "9b1fbdb0-187d-4da1-e666-6a4b22020103"
      },
      "execution_count": null,
      "outputs": [
        {
          "output_type": "error",
          "ename": "AttributeError",
          "evalue": "ignored",
          "traceback": [
            "\u001b[0;31m---------------------------------------------------------------------------\u001b[0m",
            "\u001b[0;31mAttributeError\u001b[0m                            Traceback (most recent call last)",
            "\u001b[0;32m<ipython-input-4-3f649cb5a8a0>\u001b[0m in \u001b[0;36m<cell line: 1>\u001b[0;34m()\u001b[0m\n\u001b[0;32m----> 1\u001b[0;31m \u001b[0mprint\u001b[0m\u001b[0;34m(\u001b[0m\u001b[0mmp\u001b[0m\u001b[0;34m.\u001b[0m\u001b[0m__version__\u001b[0m\u001b[0;34m)\u001b[0m\u001b[0;34m\u001b[0m\u001b[0;34m\u001b[0m\u001b[0m\n\u001b[0m",
            "\u001b[0;31mAttributeError\u001b[0m: module 'mediapipe' has no attribute '__version__'"
          ]
        }
      ]
    },
    {
      "cell_type": "code",
      "execution_count": null,
      "metadata": {
        "id": "bHloWJfCyG7R"
      },
      "outputs": [],
      "source": [
        "# Initialize mediapipe lib\n",
        "mpPose = mp.solutions.pose\n",
        "pose = mpPose.Pose()\n",
        "mpDraw = mp.solutions.drawing_utils\n",
        "\n",
        "# no_of_frames = 120"
      ]
    },
    {
      "cell_type": "code",
      "execution_count": null,
      "metadata": {
        "id": "7aQimvbWyG7S"
      },
      "outputs": [],
      "source": [
        "def make_landmark_timestep(results):\n",
        "    c_lm = []\n",
        "    for id, lm in enumerate(results.pose_landmarks.landmark):\n",
        "        c_lm.append(lm.x)\n",
        "        c_lm.append(lm.y)\n",
        "        c_lm.append(lm.z)\n",
        "        c_lm.append(lm.visibility)\n",
        "    return c_lm"
      ]
    },
    {
      "cell_type": "code",
      "execution_count": null,
      "metadata": {
        "id": "Aw6MokubyG7T"
      },
      "outputs": [],
      "source": [
        "def draw_landmark_on_image(mpDraw, results, frame):\n",
        "    # Draw the line to connect the landmarks\n",
        "    mpDraw.draw_landmarks(frame, results.pose_landmarks, mpPose.POSE_CONNECTIONS)\n",
        "\n",
        "    # Draw the landmarks on the frame\n",
        "    for id, lm in enumerate(results.pose_landmarks.landmark):\n",
        "        h, w, c = frame.shape\n",
        "        cx, cy = int(lm.x * w), int(lm.y * h)\n",
        "        cv2.circle(frame, (cx, cy), 5, (255, 0, 0), cv2.FILLED)\n",
        "    return frame"
      ]
    },
    {
      "cell_type": "code",
      "execution_count": null,
      "metadata": {
        "id": "9yv5P7moyG7U"
      },
      "outputs": [],
      "source": [
        "# Set the path of all the videos\n",
        "video_folder_features = '/content/drive/MyDrive/PBL/PBL5/_Bottom-up-Framework/New_Data/Features'\n",
        "video_folder_data = '/content/drive/MyDrive/PBL/PBL5/data_resize_30'\n",
        "# video_folder_resize = '/content/drive/MyDrive/PBL/PBL5/yuudemo/Resize'\n",
        ""
      ]
    },
    {
      "cell_type": "markdown",
      "metadata": {
        "id": "r-efMt8gyG7U"
      },
      "source": [
        "### Read video from the folder and save the landmarks to a csv file"
      ]
    },
    {
      "cell_type": "markdown",
      "metadata": {
        "id": "lnidHQsRyG7V"
      },
      "source": [
        "#### Preprocessing video"
      ]
    },
    {
      "cell_type": "markdown",
      "metadata": {
        "id": "Lp3uisMwyG7W"
      },
      "source": [
        "Resize video"
      ]
    },
    {
      "cell_type": "code",
      "execution_count": null,
      "metadata": {
        "id": "FDckCaVWyG7X"
      },
      "outputs": [],
      "source": [
        "def resize_video(video_path, output_path, new_size=(720, 480), new_fps=20):\n",
        "    cap = cv2.VideoCapture(video_path)\n",
        "    fps = cap.get(cv2.CAP_PROP_FPS)\n",
        "    # print(\"fps: \", fps)\n",
        "    frame_size = (int(cap.get(cv2.CAP_PROP_FRAME_WIDTH)), int(cap.get(cv2.CAP_PROP_FRAME_HEIGHT)))\n",
        "    # print(\"frame_size: \", frame_size)\n",
        "    writer = cv2.VideoWriter(output_path, cv2.VideoWriter_fourcc(*'mp4v'), new_fps, new_size)\n",
        "\n",
        "    while cap.isOpened():\n",
        "        ret, frame = cap.read()\n",
        "\n",
        "        if ret:\n",
        "            # Resize frame\n",
        "            resized_frame = cv2.resize(frame, new_size)\n",
        "            writer.write(resized_frame)\n",
        "        else:\n",
        "            break\n",
        "\n",
        "    cap.release()\n",
        "    writer.release()\n",
        "\n"
      ]
    },
    {
      "cell_type": "markdown",
      "metadata": {
        "id": "R3KScdKqyG7Y"
      },
      "source": [
        "Create folder resize to save video resized (Only run one time to have data, no need to run more)"
      ]
    },
    {
      "cell_type": "code",
      "execution_count": null,
      "metadata": {
        "id": "TSMR-ot0yG7Z"
      },
      "outputs": [],
      "source": [
        "# for root, dirs, files in os.walk(video_folder_data):\n",
        "#     for dir in dirs:\n",
        "#         # if (dir.startswith('Fall') or dir.startswith('Walk')):\n",
        "#         #     print(dir)\n",
        "#         for video in os.listdir(os.path.join(root, dir)):\n",
        "#             video_path = os.path.join(root, dir, video)\n",
        "#             # print(video_path)\n",
        "#             output_folder = os.path.join('/home/yuu/Documents/PBL5-demo/Resize', dir)\n",
        "#             if not os.path.exists(output_folder):\n",
        "#                 os.makedirs(output_folder)\n",
        "#             output_path = os.path.join(output_folder, video.replace('.mp4', '_resized.mp4'))\n",
        "#             # print(output_path)\n",
        "#             resize_video(video_path, output_path)\n"
      ]
    },
    {
      "cell_type": "markdown",
      "metadata": {
        "id": "TULHjPLZyG7a"
      },
      "source": [
        "Cut video resized into frames -> save image"
      ]
    },
    {
      "cell_type": "code",
      "execution_count": null,
      "metadata": {
        "id": "obz6LireyG7a"
      },
      "outputs": [],
      "source": [
        "# def extract_frames_from_video(video_path, output_folder, frames_per_second):\n",
        "#     cap = cv2.VideoCapture(video_path)\n",
        "#     frame_rate = cap.get(cv2.CAP_PROP_FPS)\n",
        "#     total_frames = cap.get(cv2.CAP_PROP_FRAME_COUNT)\n",
        "\n",
        "#     if not os.path.exists(output_folder):\n",
        "#         os.makedirs(output_folder)\n",
        "\n",
        "#     count = 0\n",
        "#     index = 0\n",
        "\n",
        "#     while cap.isOpened():\n",
        "#         ret, frame = cap.read()\n",
        "\n",
        "#         if ret:\n",
        "#             count += 1\n",
        "#             if count < frame_rate * 3:\n",
        "#                 continue\n",
        "#             elif count % int(frame_rate / frames_per_second) == 0:\n",
        "#                 index += 1\n",
        "#                 output_path = os.path.join(output_folder, f\"{index:04d}.jpg\")\n",
        "#                 cv2.imwrite(output_path, frame)\n",
        "#             elif index > 0 and count >= (index * frame_rate / frames_per_second + frame_rate * 6):\n",
        "#                 break\n",
        "#         else:\n",
        "#             break\n",
        "\n",
        "#     cap.release()\n"
      ]
    },
    {
      "cell_type": "markdown",
      "source": [
        "Cut video into image (No need to run after having data)"
      ],
      "metadata": {
        "id": "3A9ZDrO68UbV"
      }
    },
    {
      "cell_type": "code",
      "execution_count": null,
      "metadata": {
        "id": "Yq9vl18jyG7b"
      },
      "outputs": [],
      "source": [
        "# for root, dirs, files in os.walk(video_folder_resize):\n",
        "#     for dir in dirs:\n",
        "#         video_folder = os.path.join(root, dir)\n",
        "#         output_folder = os.path.join('/home/yuu/Documents/PBL5-demo/Image', dir)\n",
        "#         for video in os.listdir(video_folder):\n",
        "#             video_path = os.path.join(video_folder, video)\n",
        "#             output_path = os.path.join(output_folder, video.replace('_resized.mp4', ''))\n",
        "#             # print(output_path)\n",
        "#             extract_frames_from_video(video_path, output_path, 6)"
      ]
    },
    {
      "cell_type": "markdown",
      "metadata": {
        "id": "4gZeRMjgyG7b"
      },
      "source": [
        "### Read video and save landmark"
      ]
    },
    {
      "cell_type": "markdown",
      "metadata": {
        "id": "7Y3cmJ2hyG7b"
      },
      "source": [
        "Save the landmarks to a csv file"
      ]
    },
    {
      "cell_type": "code",
      "execution_count": null,
      "metadata": {
        "id": "PyohVtuKyG7b"
      },
      "outputs": [],
      "source": [
        "def save_landmark_to_csv(label, lm_list):\n",
        "    df = pd.DataFrame(lm_list)\n",
        "    df.to_csv(label + '.csv')\n",
        "    print('File name:', label + '.csv')"
      ]
    },
    {
      "cell_type": "code",
      "execution_count": null,
      "metadata": {
        "id": "mpV5r7uTyG7c"
      },
      "outputs": [],
      "source": [
        "def handle_video_features(video_path, output_path, lm_list):\n",
        "    cap = cv2.VideoCapture(video_path)\n",
        "\n",
        "    if (cap.isOpened() == False):\n",
        "        print(\"Error opening video stream or file\")\n",
        "\n",
        "    fps = cap.get(cv2.CAP_PROP_FPS)\n",
        "    frame_size = (int(cap.get(cv2.CAP_PROP_FRAME_WIDTH)), int(cap.get(cv2.CAP_PROP_FRAME_HEIGHT)))\n",
        "    # print(\"output_path: \", output_path)\n",
        "    # writer = cv2.VideoWriter(output_path, cv2.VideoWriter_fourcc(*'mp4v'), fps, frame_size)\n",
        "\n",
        "    while cap.isOpened():\n",
        "        ret, frame = cap.read()\n",
        "\n",
        "        if ret:\n",
        "            # Recognize the pose\n",
        "            frameRGB = cv2.cvtColor(frame, cv2.COLOR_BGR2RGB)\n",
        "            results = pose.process(frameRGB)\n",
        "\n",
        "            if results.pose_landmarks:\n",
        "                # Read the value of the landmarks\n",
        "                lm = make_landmark_timestep(results)\n",
        "                lm_list.append(lm)\n",
        "\n",
        "                # Draw the landmarks on the frame\n",
        "                frame = draw_landmark_on_image(mpDraw, results, frame)\n",
        "\n",
        "            # cv2.imshow('frame', frame)\n",
        "            # writer.write(frame)\n",
        "            if cv2.waitKey(1) == ord('q'):\n",
        "                break\n",
        "\n",
        "\n",
        "        else:\n",
        "            break\n",
        "\n",
        "    cap.release()\n",
        "    # writer.release()\n",
        "    cv2.destroyAllWindows()\n"
      ]
    },
    {
      "cell_type": "markdown",
      "source": [
        "Code to create folder Features (No need to run after having data)"
      ],
      "metadata": {
        "id": "ljxN5N7d8gcG"
      }
    },
    {
      "cell_type": "code",
      "execution_count": null,
      "metadata": {
        "id": "5sioH2oiyG7c",
        "outputId": "c626bd38-79bc-45ce-b006-322555346255",
        "colab": {
          "base_uri": "https://localhost:8080/"
        }
      },
      "outputs": [
        {
          "output_type": "stream",
          "name": "stdout",
          "text": [
            "File name: walk.csv\n"
          ]
        }
      ],
      "source": [
        "for root, dirs, files in os.walk(video_folder_data):\n",
        "    for dir in dirs:\n",
        "        lm_list = []\n",
        "        for video in os.listdir(os.path.join(root, dir)):\n",
        "            video_path = os.path.join(root, dir, video)\n",
        "            # print(video_path)\n",
        "            output_folder = os.path.join(video_folder_features, dir)\n",
        "            if not os.path.exists(output_folder):\n",
        "                os.makedirs(output_folder)\n",
        "            output_path = os.path.join(output_folder, video.replace('.mp4', '_features.mp4'))\n",
        "            # print(output_path)\n",
        "            handle_video_features(video_path, output_path, lm_list)\n",
        "        save_landmark_to_csv(dir, lm_list)"
      ]
    }
  ],
  "metadata": {
    "kernelspec": {
      "display_name": "base",
      "language": "python",
      "name": "python3"
    },
    "language_info": {
      "codemirror_mode": {
        "name": "ipython",
        "version": 3
      },
      "file_extension": ".py",
      "mimetype": "text/x-python",
      "name": "python",
      "nbconvert_exporter": "python",
      "pygments_lexer": "ipython3",
      "version": "3.9.12"
    },
    "orig_nbformat": 4,
    "colab": {
      "provenance": [],
      "gpuType": "T4"
    },
    "accelerator": "GPU",
    "gpuClass": "standard"
  },
  "nbformat": 4,
  "nbformat_minor": 0
}